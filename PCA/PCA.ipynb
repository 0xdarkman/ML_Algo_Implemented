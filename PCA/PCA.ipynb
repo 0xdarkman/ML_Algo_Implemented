{
 "cells": [
  {
   "cell_type": "code",
   "execution_count": 1,
   "metadata": {},
   "outputs": [],
   "source": [
    "%reload_ext autoreload\n",
    "%autoreload 2\n",
    "%matplotlib inline"
   ]
  },
  {
   "cell_type": "code",
   "execution_count": 2,
   "metadata": {},
   "outputs": [],
   "source": [
    "import numpy as np\n",
    "import matplotlib.pyplot as plt\n",
    "from sklearn.decomposition import PCA\n",
    "from sklearn.datasets import load_digits, load_iris\n",
    "from sklearn.model_selection import train_test_split\n",
    "from pca import pca as MyPCA"
   ]
  },
  {
   "cell_type": "markdown",
   "metadata": {},
   "source": [
    "# Load Digit Dataset"
   ]
  },
  {
   "cell_type": "code",
   "execution_count": 3,
   "metadata": {},
   "outputs": [],
   "source": [
    "digits = load_digits()"
   ]
  },
  {
   "cell_type": "markdown",
   "metadata": {},
   "source": [
    "# sklearn PCA"
   ]
  },
  {
   "cell_type": "code",
   "execution_count": 4,
   "metadata": {},
   "outputs": [],
   "source": [
    "pca = PCA(n_components=2, random_state=17).fit(digits.data)"
   ]
  },
  {
   "cell_type": "code",
   "execution_count": 5,
   "metadata": {},
   "outputs": [],
   "source": [
    "data_pca = pca.transform(digits.data)"
   ]
  },
  {
   "cell_type": "code",
   "execution_count": 6,
   "metadata": {},
   "outputs": [
    {
     "data": {
      "text/plain": [
       "(array([0.14890594, 0.13618771]),\n",
       " array([179.0069301 , 163.71774688]),\n",
       " array([567.0065665 , 542.25185421]),\n",
       " array([[ 0.00000000e+00, -1.73094681e-02, -2.23428857e-01,\n",
       "         -1.35913278e-01, -3.30322665e-02, -9.66340984e-02,\n",
       "         -8.32945456e-03,  2.26900026e-03, -3.20516383e-04,\n",
       "         -1.19308907e-01, -2.44451685e-01,  1.48512759e-01,\n",
       "         -4.67319434e-02, -2.17740753e-01, -1.48136832e-02,\n",
       "          4.47779666e-03, -4.94135455e-05, -7.95419376e-02,\n",
       "          8.33951158e-02,  2.15915335e-01, -1.72126830e-01,\n",
       "         -1.63712098e-01,  2.86444619e-02,  4.23251992e-03,\n",
       "          9.85489009e-05,  6.42319132e-02,  2.54093298e-01,\n",
       "         -3.56770815e-02, -2.09462577e-01, -4.31311343e-02,\n",
       "          5.13118922e-02,  2.13422826e-04,  0.00000000e+00,\n",
       "          1.59950878e-01,  3.68690771e-01,  1.64406850e-01,\n",
       "          8.52007739e-02,  3.72982661e-02,  2.15867080e-02,\n",
       "          0.00000000e+00,  1.28865584e-03,  1.06945272e-01,\n",
       "          3.03067438e-01,  2.47813030e-01,  2.09637284e-01,\n",
       "          1.22324994e-02, -3.69458456e-02,  1.61485083e-03,\n",
       "          6.93023637e-04, -8.35144849e-03, -5.58599165e-02,\n",
       "          9.30534255e-02,  1.07387742e-01, -1.37734557e-01,\n",
       "         -6.32879570e-02,  9.61671187e-04,  9.55078183e-06,\n",
       "         -1.40786879e-02, -2.35675514e-01, -1.41225549e-01,\n",
       "         -9.15959879e-03, -8.94184775e-02, -3.65977247e-02,\n",
       "         -1.14684955e-02],\n",
       "        [ 2.22044605e-16, -1.01064566e-02, -4.90849204e-02,\n",
       "         -9.43337806e-03, -5.36015623e-02, -1.17755314e-01,\n",
       "         -6.21281784e-02, -7.93574598e-03, -1.63216251e-04,\n",
       "         -2.10167047e-02,  6.03485685e-02, -5.33770055e-03,\n",
       "         -9.19769255e-02, -5.19210522e-02, -5.89354685e-02,\n",
       "         -3.33283442e-03, -4.22872134e-05,  3.62458528e-02,\n",
       "          1.98257340e-01, -4.86386575e-02, -2.25574892e-01,\n",
       "         -4.50542112e-03,  2.67696714e-02, -2.08735948e-04,\n",
       "         -5.66233982e-05,  7.71235131e-02,  1.88447110e-01,\n",
       "         -1.37952518e-01, -2.61042772e-01,  4.98350613e-02,\n",
       "          6.51113753e-02,  4.03200315e-05, -0.00000000e+00,\n",
       "          8.81559933e-02,  8.71737553e-02, -2.70860188e-01,\n",
       "         -2.85291800e-01,  1.66461585e-01,  1.27860542e-01,\n",
       "         -0.00000000e+00,  2.89440244e-04,  5.08304898e-02,\n",
       "          1.30274465e-01, -2.68906461e-01, -3.01575537e-01,\n",
       "          2.40259066e-01,  2.17555550e-01,  1.32726060e-03,\n",
       "          2.86743003e-04,  1.05548301e-02,  1.53370699e-01,\n",
       "         -1.19535170e-01, -9.72508057e-02,  2.85869538e-01,\n",
       "          1.48776445e-01,  5.42290300e-04, -3.34028039e-05,\n",
       "         -1.00791164e-02, -7.02724068e-02,  1.71108071e-02,\n",
       "          1.94296398e-01,  1.76697118e-01,  1.94547051e-02,\n",
       "         -6.69693982e-03]]))"
      ]
     },
     "execution_count": 6,
     "metadata": {},
     "output_type": "execute_result"
    }
   ],
   "source": [
    "pca.explained_variance_ratio_, pca.explained_variance_, pca.singular_values_, pca.components_"
   ]
  },
  {
   "cell_type": "code",
   "execution_count": 7,
   "metadata": {},
   "outputs": [
    {
     "data": {
      "text/plain": [
       "array([[ -1.25946642,  21.27488339],\n",
       "       [  7.95761212, -20.76869896],\n",
       "       [  6.99192263,  -9.95598631],\n",
       "       ...,\n",
       "       [ 10.80128374,  -6.96025215],\n",
       "       [ -4.87209983,  12.42395343],\n",
       "       [ -0.34439037,   6.36554925]])"
      ]
     },
     "execution_count": 7,
     "metadata": {},
     "output_type": "execute_result"
    }
   ],
   "source": [
    "data_pca"
   ]
  },
  {
   "cell_type": "markdown",
   "metadata": {},
   "source": [
    "# Our Implementation"
   ]
  },
  {
   "cell_type": "code",
   "execution_count": 8,
   "metadata": {},
   "outputs": [],
   "source": [
    "pca1 = MyPCA(n_components=2, solver='svd')"
   ]
  },
  {
   "cell_type": "code",
   "execution_count": 9,
   "metadata": {},
   "outputs": [],
   "source": [
    "pca1.fit(digits.data)"
   ]
  },
  {
   "cell_type": "code",
   "execution_count": 10,
   "metadata": {},
   "outputs": [],
   "source": [
    "data_pca1 = pca1.transform(digits.data)"
   ]
  },
  {
   "cell_type": "code",
   "execution_count": 11,
   "metadata": {},
   "outputs": [
    {
     "data": {
      "text/plain": [
       "(array([0.14890594, 0.13618771]),\n",
       " array([179.0069301 , 163.71774688]),\n",
       " array([567.0065665 , 542.25185421]),\n",
       " array([[-1.77484909e-19, -1.73094651e-02, -2.23428835e-01,\n",
       "         -1.35913304e-01, -3.30323092e-02, -9.66340844e-02,\n",
       "         -8.32943805e-03,  2.26900082e-03, -3.20516495e-04,\n",
       "         -1.19308905e-01, -2.44451676e-01,  1.48512745e-01,\n",
       "         -4.67319410e-02, -2.17740744e-01, -1.48136776e-02,\n",
       "          4.47779518e-03, -4.94136398e-05, -7.95419375e-02,\n",
       "          8.33951454e-02,  2.15915342e-01, -1.72126801e-01,\n",
       "         -1.63712098e-01,  2.86444452e-02,  4.23251803e-03,\n",
       "          9.85488574e-05,  6.42319144e-02,  2.54093316e-01,\n",
       "         -3.56771026e-02, -2.09462569e-01, -4.31311420e-02,\n",
       "          5.13118688e-02,  2.13422732e-04, -0.00000000e+00,\n",
       "          1.59950883e-01,  3.68690774e-01,  1.64406827e-01,\n",
       "          8.52007908e-02,  3.72982855e-02,  2.15866980e-02,\n",
       "         -0.00000000e+00,  1.28865585e-03,  1.06945287e-01,\n",
       "          3.03067457e-01,  2.47813041e-01,  2.09637296e-01,\n",
       "          1.22325219e-02, -3.69458497e-02,  1.61485028e-03,\n",
       "          6.93023548e-04, -8.35144239e-03, -5.58598986e-02,\n",
       "          9.30534169e-02,  1.07387720e-01, -1.37734565e-01,\n",
       "         -6.32879466e-02,  9.61671077e-04,  9.55079131e-06,\n",
       "         -1.40786840e-02, -2.35675488e-01, -1.41225588e-01,\n",
       "         -9.15964553e-03, -8.94184677e-02, -3.65977111e-02,\n",
       "         -1.14684954e-02],\n",
       "        [ 3.27805401e-18, -1.01064569e-02, -4.90849204e-02,\n",
       "         -9.43337493e-03, -5.36015636e-02, -1.17755318e-01,\n",
       "         -6.21281792e-02, -7.93574578e-03, -1.63216259e-04,\n",
       "         -2.10167064e-02,  6.03485687e-02, -5.33769554e-03,\n",
       "         -9.19769205e-02, -5.19210493e-02, -5.89354684e-02,\n",
       "         -3.33283413e-03, -4.22872096e-05,  3.62458505e-02,\n",
       "          1.98257337e-01, -4.86386550e-02, -2.25574894e-01,\n",
       "         -4.50541862e-03,  2.67696727e-02, -2.08735745e-04,\n",
       "         -5.66233953e-05,  7.71235121e-02,  1.88447107e-01,\n",
       "         -1.37952518e-01, -2.61042779e-01,  4.98350596e-02,\n",
       "          6.51113775e-02,  4.03200346e-05, -0.00000000e+00,\n",
       "          8.81559918e-02,  8.71737595e-02, -2.70860181e-01,\n",
       "         -2.85291800e-01,  1.66461582e-01,  1.27860543e-01,\n",
       "         -0.00000000e+00,  2.89440157e-04,  5.08304859e-02,\n",
       "          1.30274463e-01, -2.68906468e-01, -3.01575537e-01,\n",
       "          2.40259064e-01,  2.17555551e-01,  1.32726068e-03,\n",
       "          2.86742937e-04,  1.05548282e-02,  1.53370694e-01,\n",
       "         -1.19535173e-01, -9.72508046e-02,  2.85869538e-01,\n",
       "          1.48776446e-01,  5.42290907e-04, -3.34028085e-05,\n",
       "         -1.00791167e-02, -7.02724074e-02,  1.71108112e-02,\n",
       "          1.94296399e-01,  1.76697117e-01,  1.94547053e-02,\n",
       "         -6.69693895e-03]]))"
      ]
     },
     "execution_count": 11,
     "metadata": {},
     "output_type": "execute_result"
    }
   ],
   "source": [
    "pca1.explained_variance_ratio_, pca1.explained_variance_, pca1.singular_values_, pca1.components_"
   ]
  },
  {
   "cell_type": "code",
   "execution_count": 12,
   "metadata": {},
   "outputs": [
    {
     "data": {
      "text/plain": [
       "array([[ -1.25946645,  21.27488348],\n",
       "       [  7.9576113 , -20.76869896],\n",
       "       [  6.99192297,  -9.95598641],\n",
       "       ...,\n",
       "       [ 10.8012837 ,  -6.96025223],\n",
       "       [ -4.87210009,  12.42395362],\n",
       "       [ -0.34438963,   6.36554919]])"
      ]
     },
     "execution_count": 12,
     "metadata": {},
     "output_type": "execute_result"
    }
   ],
   "source": [
    "data_pca1"
   ]
  },
  {
   "cell_type": "markdown",
   "metadata": {},
   "source": [
    "### eig solver"
   ]
  },
  {
   "cell_type": "code",
   "execution_count": 22,
   "metadata": {},
   "outputs": [],
   "source": [
    "pca_eig = MyPCA(n_components=2, solver='eig')"
   ]
  },
  {
   "cell_type": "code",
   "execution_count": 23,
   "metadata": {},
   "outputs": [],
   "source": [
    "pca_eig.fit(digits.data)"
   ]
  },
  {
   "cell_type": "code",
   "execution_count": 24,
   "metadata": {},
   "outputs": [],
   "source": [
    "data_eig = pca_eig.transform(digits.data)"
   ]
  },
  {
   "cell_type": "code",
   "execution_count": 25,
   "metadata": {},
   "outputs": [
    {
     "data": {
      "text/plain": [
       "(array([0.14890594, 0.13618771]),\n",
       " array([178.90731578, 163.62664073]),\n",
       " array([566.84877978, 542.10095624]),\n",
       " array([[-0.00000000e+00,  1.73094651e-02,  2.23428835e-01,\n",
       "          1.35913304e-01,  3.30323092e-02,  9.66340844e-02,\n",
       "          8.32943805e-03, -2.26900082e-03,  3.20516495e-04,\n",
       "          1.19308905e-01,  2.44451676e-01, -1.48512745e-01,\n",
       "          4.67319410e-02,  2.17740744e-01,  1.48136776e-02,\n",
       "         -4.47779518e-03,  4.94136398e-05,  7.95419375e-02,\n",
       "         -8.33951454e-02, -2.15915342e-01,  1.72126801e-01,\n",
       "          1.63712098e-01, -2.86444452e-02, -4.23251803e-03,\n",
       "         -9.85488574e-05, -6.42319144e-02, -2.54093316e-01,\n",
       "          3.56771026e-02,  2.09462569e-01,  4.31311420e-02,\n",
       "         -5.13118688e-02, -2.13422732e-04, -0.00000000e+00,\n",
       "         -1.59950883e-01, -3.68690774e-01, -1.64406827e-01,\n",
       "         -8.52007908e-02, -3.72982855e-02, -2.15866980e-02,\n",
       "         -0.00000000e+00, -1.28865585e-03, -1.06945287e-01,\n",
       "         -3.03067457e-01, -2.47813041e-01, -2.09637296e-01,\n",
       "         -1.22325219e-02,  3.69458497e-02, -1.61485028e-03,\n",
       "         -6.93023548e-04,  8.35144239e-03,  5.58598986e-02,\n",
       "         -9.30534169e-02, -1.07387720e-01,  1.37734565e-01,\n",
       "          6.32879466e-02, -9.61671077e-04, -9.55079131e-06,\n",
       "          1.40786840e-02,  2.35675488e-01,  1.41225588e-01,\n",
       "          9.15964553e-03,  8.94184677e-02,  3.65977111e-02,\n",
       "          1.14684954e-02],\n",
       "        [ 0.00000000e+00, -1.01064569e-02, -4.90849204e-02,\n",
       "         -9.43337493e-03, -5.36015636e-02, -1.17755318e-01,\n",
       "         -6.21281792e-02, -7.93574578e-03, -1.63216259e-04,\n",
       "         -2.10167064e-02,  6.03485687e-02, -5.33769554e-03,\n",
       "         -9.19769205e-02, -5.19210493e-02, -5.89354684e-02,\n",
       "         -3.33283413e-03, -4.22872096e-05,  3.62458505e-02,\n",
       "          1.98257337e-01, -4.86386550e-02, -2.25574894e-01,\n",
       "         -4.50541862e-03,  2.67696727e-02, -2.08735745e-04,\n",
       "         -5.66233953e-05,  7.71235121e-02,  1.88447107e-01,\n",
       "         -1.37952518e-01, -2.61042779e-01,  4.98350596e-02,\n",
       "          6.51113775e-02,  4.03200346e-05,  0.00000000e+00,\n",
       "          8.81559918e-02,  8.71737595e-02, -2.70860181e-01,\n",
       "         -2.85291800e-01,  1.66461582e-01,  1.27860543e-01,\n",
       "          0.00000000e+00,  2.89440157e-04,  5.08304859e-02,\n",
       "          1.30274463e-01, -2.68906468e-01, -3.01575537e-01,\n",
       "          2.40259064e-01,  2.17555551e-01,  1.32726068e-03,\n",
       "          2.86742937e-04,  1.05548282e-02,  1.53370694e-01,\n",
       "         -1.19535173e-01, -9.72508046e-02,  2.85869538e-01,\n",
       "          1.48776446e-01,  5.42290907e-04, -3.34028085e-05,\n",
       "         -1.00791167e-02, -7.02724074e-02,  1.71108112e-02,\n",
       "          1.94296399e-01,  1.76697117e-01,  1.94547053e-02,\n",
       "         -6.69693895e-03]]))"
      ]
     },
     "execution_count": 25,
     "metadata": {},
     "output_type": "execute_result"
    }
   ],
   "source": [
    "pca_eig.explained_variance_ratio_, pca_eig.explained_variance_, pca_eig.singular_values_, pca_eig.components_"
   ]
  },
  {
   "cell_type": "code",
   "execution_count": 26,
   "metadata": {},
   "outputs": [
    {
     "data": {
      "text/plain": [
       "array([[  1.25946645,  21.27488348],\n",
       "       [ -7.9576113 , -20.76869896],\n",
       "       [ -6.99192297,  -9.95598641],\n",
       "       ...,\n",
       "       [-10.8012837 ,  -6.96025223],\n",
       "       [  4.87210009,  12.42395362],\n",
       "       [  0.34438963,   6.36554919]])"
      ]
     },
     "execution_count": 26,
     "metadata": {},
     "output_type": "execute_result"
    }
   ],
   "source": [
    "data_eig"
   ]
  },
  {
   "cell_type": "markdown",
   "metadata": {},
   "source": [
    "# Iris Dataset"
   ]
  },
  {
   "cell_type": "markdown",
   "metadata": {},
   "source": [
    "Let's try to plot 3 components after PCA.<br>\n",
    "https://scikit-learn.org/stable/auto_examples/decomposition/plot_pca_iris.html#sphx-glr-auto-examples-decomposition-plot-pca-iris-py"
   ]
  },
  {
   "cell_type": "code",
   "execution_count": null,
   "metadata": {},
   "outputs": [],
   "source": [
    "from mpl_toolkits.mplot3d import Axes3D"
   ]
  },
  {
   "cell_type": "code",
   "execution_count": null,
   "metadata": {},
   "outputs": [],
   "source": [
    "def plot_components(X, y):\n",
    "    fig = plt.figure(1, figsize=(12, 8))\n",
    "    plt.clf()\n",
    "    ax = Axes3D(fig, rect=[0, 0, .95, 1], elev=48, azim=134)\n",
    "    \n",
    "    for name, label in [('Setosa', 0), ('Versicolour', 1), ('Virginica', 2)]:\n",
    "        ax.text3D(X[y == label, 0].mean(),\n",
    "              X[y == label, 1].mean() + 1.5,\n",
    "              X[y == label, 2].mean(), name,\n",
    "              horizontalalignment='center',\n",
    "              bbox=dict(alpha=.5, edgecolor='w', facecolor='w'))\n",
    "\n",
    "    # Reorder the labels to have colors matching the cluster results\n",
    "    y = np.choose(y, [1, 2, 0]).astype(np.float)\n",
    "    ax.scatter(X[:, 0], X[:, 1], X[:, 2], c=y, cmap=plt.cm.nipy_spectral,\n",
    "           edgecolor='k')\n",
    "\n",
    "    ax.w_xaxis.set_ticklabels([])\n",
    "    ax.w_yaxis.set_ticklabels([])\n",
    "    ax.w_zaxis.set_ticklabels([])\n",
    "\n",
    "    plt.show()"
   ]
  },
  {
   "cell_type": "code",
   "execution_count": null,
   "metadata": {},
   "outputs": [],
   "source": [
    "iris = load_iris()"
   ]
  },
  {
   "cell_type": "code",
   "execution_count": null,
   "metadata": {},
   "outputs": [],
   "source": [
    "X, y = iris.data, iris.target"
   ]
  },
  {
   "cell_type": "markdown",
   "metadata": {},
   "source": [
    "# sklearn"
   ]
  },
  {
   "cell_type": "code",
   "execution_count": null,
   "metadata": {},
   "outputs": [],
   "source": [
    "pca_3d = PCA(n_components=3, random_state=17).fit(X)"
   ]
  },
  {
   "cell_type": "code",
   "execution_count": null,
   "metadata": {},
   "outputs": [],
   "source": [
    "X_3d = pca_3d.transform(X)"
   ]
  },
  {
   "cell_type": "code",
   "execution_count": null,
   "metadata": {},
   "outputs": [],
   "source": [
    "plot_components(X_3d, y)"
   ]
  },
  {
   "cell_type": "markdown",
   "metadata": {},
   "source": [
    "# Our's: Solver:svd"
   ]
  },
  {
   "cell_type": "code",
   "execution_count": null,
   "metadata": {},
   "outputs": [],
   "source": [
    "pca_3d_svd = MyPCA(n_components=3)"
   ]
  },
  {
   "cell_type": "code",
   "execution_count": null,
   "metadata": {},
   "outputs": [],
   "source": [
    "pca_3d_svd.fit(X)"
   ]
  },
  {
   "cell_type": "code",
   "execution_count": null,
   "metadata": {},
   "outputs": [],
   "source": [
    "X_3d_svd = pca_3d_svd.transform(X)"
   ]
  },
  {
   "cell_type": "code",
   "execution_count": null,
   "metadata": {},
   "outputs": [],
   "source": [
    "plot_components(X_3d_svd, y)"
   ]
  },
  {
   "cell_type": "markdown",
   "metadata": {},
   "source": [
    "# Our's: Solver:eig fit_transform"
   ]
  },
  {
   "cell_type": "code",
   "execution_count": null,
   "metadata": {},
   "outputs": [],
   "source": [
    "pca_3d_eig = MyPCA(n_components=3, solver='eig')"
   ]
  },
  {
   "cell_type": "code",
   "execution_count": null,
   "metadata": {},
   "outputs": [],
   "source": [
    "X_3d_eig = pca_3d_eig.fit_transform(X)"
   ]
  },
  {
   "cell_type": "code",
   "execution_count": null,
   "metadata": {},
   "outputs": [],
   "source": [
    "plot_components(X_3d_eig, y)"
   ]
  },
  {
   "cell_type": "code",
   "execution_count": null,
   "metadata": {},
   "outputs": [],
   "source": []
  },
  {
   "cell_type": "code",
   "execution_count": null,
   "metadata": {},
   "outputs": [],
   "source": [
    "pca_3d_svd.explained_variance_"
   ]
  },
  {
   "cell_type": "code",
   "execution_count": null,
   "metadata": {},
   "outputs": [],
   "source": [
    "pca_3d_eig.explained_variance_"
   ]
  },
  {
   "cell_type": "code",
   "execution_count": null,
   "metadata": {},
   "outputs": [],
   "source": []
  }
 ],
 "metadata": {
  "kernelspec": {
   "display_name": "Python 3.7.6 64-bit ('pytorch1': conda)",
   "language": "python",
   "name": "python37664bitpytorch1conda2975089d5f5544148d24115825f13c3f"
  },
  "language_info": {
   "codemirror_mode": {
    "name": "ipython",
    "version": 3
   },
   "file_extension": ".py",
   "mimetype": "text/x-python",
   "name": "python",
   "nbconvert_exporter": "python",
   "pygments_lexer": "ipython3",
   "version": "3.7.7"
  }
 },
 "nbformat": 4,
 "nbformat_minor": 4
}
